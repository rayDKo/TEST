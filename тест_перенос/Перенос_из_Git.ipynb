{
  "nbformat": 4,
  "nbformat_minor": 0,
  "metadata": {
    "colab": {
      "provenance": []
    },
    "kernelspec": {
      "name": "python3",
      "display_name": "Python 3"
    },
    "language_info": {
      "name": "python"
    }
  },
  "cells": [
    {
      "cell_type": "code",
      "execution_count": 1,
      "metadata": {
        "id": "NLTpZB1QnShB",
        "colab": {
          "base_uri": "https://localhost:8080/"
        },
        "outputId": "9784dbc7-533a-4cef-edbe-50f7f5a126cc"
      },
      "outputs": [
        {
          "output_type": "stream",
          "name": "stdout",
          "text": [
            "\r0% [Working]\r            \rHit:1 https://cloud.r-project.org/bin/linux/ubuntu jammy-cran40/ InRelease\n",
            "\r0% [Connecting to archive.ubuntu.com (185.125.190.83)] [Connecting to security.\r                                                                               \rHit:2 https://developer.download.nvidia.com/compute/cuda/repos/ubuntu2204/x86_64  InRelease\n",
            "Hit:3 https://cli.github.com/packages stable InRelease\n",
            "Hit:4 http://security.ubuntu.com/ubuntu jammy-security InRelease\n",
            "Hit:5 http://archive.ubuntu.com/ubuntu jammy InRelease\n",
            "Hit:6 https://r2u.stat.illinois.edu/ubuntu jammy InRelease\n",
            "Hit:7 http://archive.ubuntu.com/ubuntu jammy-updates InRelease\n",
            "Hit:8 http://archive.ubuntu.com/ubuntu jammy-backports InRelease\n",
            "Hit:9 https://ppa.launchpadcontent.net/deadsnakes/ppa/ubuntu jammy InRelease\n",
            "Hit:10 https://ppa.launchpadcontent.net/graphics-drivers/ppa/ubuntu jammy InRelease\n",
            "Hit:11 https://ppa.launchpadcontent.net/ubuntugis/ppa/ubuntu jammy InRelease\n",
            "Reading package lists... Done\n",
            "W: Skipping acquire of configured file 'main/source/Sources' as repository 'https://r2u.stat.illinois.edu/ubuntu jammy InRelease' does not seem to provide it (sources.list entry misspelt?)\n",
            "Reading package lists... Done\n",
            "Building dependency tree... Done\n",
            "Reading state information... Done\n",
            "git is already the newest version (1:2.34.1-1ubuntu1.15).\n",
            "0 upgraded, 0 newly installed, 0 to remove and 43 not upgraded.\n"
          ]
        },
        {
          "output_type": "execute_result",
          "data": {
            "text/plain": [
              "0"
            ]
          },
          "metadata": {},
          "execution_count": 1
        }
      ],
      "source": [
        "# Установка Git (если необходимо)\n",
        "!apt-get update\n",
        "!apt-get install git -y\n",
        "\n",
        "# Настройка имени пользователя и email\n",
        "import os\n",
        "\n",
        "user_name = \"rayDKo\"  # Замените на ваше имя\n",
        "user_email = \"korvin4578@gmail.com\"  # Замените на ваш email\n",
        "\n",
        "os.system(f'git config --global user.name \"{user_name}\"')\n",
        "os.system(f'git config --global user.email \"{user_email}\"')"
      ]
    },
    {
      "cell_type": "code",
      "source": [
        "from getpass import getpass\n",
        "\n",
        "# Введите ваш GitHub токен без пробелов\n",
        "TOKEN = getpass('Введите ваш GitHub токен: ')\n",
        "\n",
        "# URL вашего репозитория\n",
        "REPO_URL = \"https://github.com/rayDKo/TEST.git\"\n",
        "\n",
        "# Клонирование репозитория с использованием токена\n",
        "!git clone https://{TOKEN}@github.com/rayDKo/TEST.git"
      ],
      "metadata": {
        "id": "BChpmHU5nTIP",
        "colab": {
          "base_uri": "https://localhost:8080/"
        },
        "outputId": "bd7ea5ae-2632-4593-9e82-2621a88d511d"
      },
      "execution_count": 2,
      "outputs": [
        {
          "output_type": "stream",
          "name": "stdout",
          "text": [
            "Введите ваш GitHub токен: ··········\n",
            "Cloning into 'TEST'...\n",
            "remote: Enumerating objects: 3, done.\u001b[K\n",
            "remote: Counting objects: 100% (3/3), done.\u001b[K\n",
            "remote: Total 3 (delta 0), reused 0 (delta 0), pack-reused 0 (from 0)\u001b[K\n",
            "Receiving objects: 100% (3/3), done.\n"
          ]
        }
      ]
    }
  ]
}